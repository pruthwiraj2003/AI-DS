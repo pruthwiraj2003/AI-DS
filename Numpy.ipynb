{
  "nbformat": 4,
  "nbformat_minor": 0,
  "metadata": {
    "colab": {
      "provenance": [],
      "toc_visible": true,
      "authorship_tag": "ABX9TyMubUodirFlOsLgvGsgmJhg",
      "include_colab_link": true
    },
    "kernelspec": {
      "name": "python3",
      "display_name": "Python 3"
    },
    "language_info": {
      "name": "python"
    }
  },
  "cells": [
    {
      "cell_type": "markdown",
      "metadata": {
        "id": "view-in-github",
        "colab_type": "text"
      },
      "source": [
        "<a href=\"https://colab.research.google.com/github/pruthwiraj2003/AI-DS/blob/main/Numpy.ipynb\" target=\"_parent\"><img src=\"https://colab.research.google.com/assets/colab-badge.svg\" alt=\"Open In Colab\"/></a>"
      ]
    },
    {
      "cell_type": "code",
      "execution_count": null,
      "metadata": {
        "id": "tdkMHdAxGBPp"
      },
      "outputs": [],
      "source": [
        "import pandas as pd\n",
        "import numpy as np\n",
        "from sklearn import linear_model\n",
        "x=[1000,1200,1400,1600,1800,2000]\n",
        "y=[12,14,16,18,20]\n",
        "x=np.array(x)\n",
        "y=np.array(y)\n",
        "area=x.reshape(-1,1)\n",
        "price=y.reshape(-1,1)\n",
        "lr=linear_model.LinearRegression()"
      ]
    },
    {
      "cell_type": "code",
      "source": [
        "m=[1000,2000,3000]\n",
        "m=[1200,1400,1600]\n",
        "y=200*4+1000\n",
        "y"
      ],
      "metadata": {
        "id": "_3HVBzFLGOca"
      },
      "execution_count": null,
      "outputs": []
    },
    {
      "cell_type": "code",
      "source": [
        "import numpy as np\n",
        "\n",
        "a=np.array([1,2,3])\n",
        "print(\"ID array:\\n\",a)"
      ],
      "metadata": {
        "id": "2KJkHBkbGTGq"
      },
      "execution_count": null,
      "outputs": []
    },
    {
      "cell_type": "code",
      "source": [
        "b=np.array([[1,2],[3,4],[10,12]])\n",
        "print(\"2D arrays \\n\",b)"
      ],
      "metadata": {
        "id": "KT8kyTVzGmOa"
      },
      "execution_count": null,
      "outputs": []
    },
    {
      "cell_type": "code",
      "source": [
        "print(\"Shape :\",b.shape)\n",
        "print(\"Size\",b.size)\n",
        "print(\"Datatype:\",b.dtype)"
      ],
      "metadata": {
        "id": "5qzDY55kGrVx"
      },
      "execution_count": null,
      "outputs": []
    },
    {
      "cell_type": "code",
      "source": [
        "zeros=np.zeros((2,3))\n",
        "zeros"
      ],
      "metadata": {
        "id": "Vf8woaynGsCV"
      },
      "execution_count": null,
      "outputs": []
    },
    {
      "cell_type": "code",
      "source": [
        "ones=np.ones((2,3))\n",
        "ones"
      ],
      "metadata": {
        "id": "S5Uox488GusT"
      },
      "execution_count": null,
      "outputs": []
    },
    {
      "cell_type": "code",
      "source": [
        "randoms=np.random.rand(2,2)\n",
        "randoms"
      ],
      "metadata": {
        "id": "zLQwhpD3Gx9A"
      },
      "execution_count": null,
      "outputs": []
    },
    {
      "cell_type": "code",
      "source": [
        "x=np.array(([1,2,3]))\n",
        "y=np.array(([4,5,6]))\n",
        "print(\"Addition:\",x+y)\n",
        "print(\"Multiplication:\",x*y)\n",
        "print(\"Dot product:\",np.dot(x,y))"
      ],
      "metadata": {
        "id": "k0Yvjrj2G9WH"
      },
      "execution_count": null,
      "outputs": []
    },
    {
      "cell_type": "code",
      "source": [
        "arr=np.array((10,20,30,40,50))\n",
        "print(arr[0])\n",
        "print(arr[1:4])"
      ],
      "metadata": {
        "id": "bd6JTfkHHCpB"
      },
      "execution_count": null,
      "outputs": []
    },
    {
      "cell_type": "code",
      "source": [
        "a=np.array(([1,2,3]))\n",
        "b=np.array(([1,2],[3,4]))\n",
        "c=np.array(([[1],[2]],[[3],[4]]))\n",
        "print(\"a:\\n\",a)\n",
        "print(\"b:\\n\",b)\n",
        "print(\"c:\\n\",c)"
      ],
      "metadata": {
        "id": "u8Dc0HG5HLe6"
      },
      "execution_count": null,
      "outputs": []
    },
    {
      "cell_type": "code",
      "source": [
        "np.random.randint(1,10,(2,3))"
      ],
      "metadata": {
        "id": "utZtvldrHMgg"
      },
      "execution_count": null,
      "outputs": []
    },
    {
      "cell_type": "code",
      "source": [
        "arr=np.array([[1 ,2, 3],[4,5,6]])\n",
        "print(\"Reshape to 2X3:\\n\",arr.reshape(3,2))\n",
        "print(\"Flatten:\",arr.flatten())"
      ],
      "metadata": {
        "id": "IRd7QUK5HQOT"
      },
      "execution_count": null,
      "outputs": []
    },
    {
      "cell_type": "code",
      "source": [
        "a=np.array([1,2])\n",
        "b=np.array([3,4])\n",
        "print(\"Vertical Stacking:\\n\",np.vstack((a,b)))\n",
        "print(\"Horizontal Stacking:\\n\",np.hstack((a,b)))"
      ],
      "metadata": {
        "id": "cIn8uWowHULx"
      },
      "execution_count": null,
      "outputs": []
    },
    {
      "cell_type": "code",
      "source": [
        "arr=np.array([10,20,30,40,50])\n",
        "print(\"Greater than 30:\",arr[arr>30])"
      ],
      "metadata": {
        "id": "PDYEupjoHXK5"
      },
      "execution_count": null,
      "outputs": []
    },
    {
      "cell_type": "code",
      "source": [
        "arr=np.array([[1,2,3],[4,5,6]])\n",
        "print(\"Sum\",np.sum(arr))\n",
        "print(\"Max\",np.max(arr))\n",
        "print(\"Min\",np.min(arr))\n",
        "print(\"Mean\",np.mean(arr))\n",
        "print(\"Standard Deviation\",np.std(arr))\n",
        "print(\"Variance\",np.var(arr))"
      ],
      "metadata": {
        "id": "PBiCnzeJHZrz"
      },
      "execution_count": null,
      "outputs": []
    },
    {
      "cell_type": "code",
      "source": [
        "a=np.array([[1],[2],[3]])\n",
        "b=np.array([10,20,30])\n",
        "print(\"Broadcasted Addition:\\n\",a+b)"
      ],
      "metadata": {
        "id": "ZFo_1JTAHcb3"
      },
      "execution_count": null,
      "outputs": []
    },
    {
      "cell_type": "code",
      "source": [
        "mat=np.arange(1,10).reshape(3,3)\n",
        "print(\"Matrix:\\n\",mat)\n",
        "print(\"Digonal sum:\",np.trace(mat))"
      ],
      "metadata": {
        "id": "JLeOTQ-SHgOQ"
      },
      "execution_count": null,
      "outputs": []
    },
    {
      "cell_type": "code",
      "source": [
        "import tensorflow as tf\n",
        "from tensorflow import keras\n",
        "from tensorflow.keras.layers import Dense\n",
        "from tensorflow.keras.models import Sequential\n",
        "\n"
      ],
      "metadata": {
        "id": "BMzcE-HDHmSn"
      },
      "execution_count": null,
      "outputs": []
    },
    {
      "cell_type": "code",
      "source": [
        "import numpy as np\n",
        "x=np.array([[0,0],[0,1],[1,0],[1,1]])\n",
        "y=np.array([0,1,1,0])"
      ],
      "metadata": {
        "id": "PzyHungIHpAC"
      },
      "execution_count": null,
      "outputs": []
    },
    {
      "cell_type": "code",
      "source": [
        "model=Sequential()"
      ],
      "metadata": {
        "id": "Wv3MTO0RHs5H"
      },
      "execution_count": null,
      "outputs": []
    },
    {
      "cell_type": "code",
      "source": [
        "model.add(Dense(4,input_dim=2,activation='relu'))\n",
        "model.add(Dense(1,activation='sigmoid'))"
      ],
      "metadata": {
        "id": "fkvvTnxAHxcN"
      },
      "execution_count": null,
      "outputs": []
    },
    {
      "cell_type": "code",
      "source": [
        "model.compile(loss='binary_crossentropy',optimizer='admin',metrics=['accuracy'])\n",
        "model.fit(x,y,epochs=500,verbose=0)"
      ],
      "metadata": {
        "id": "gLkaB2rXH1Ot"
      },
      "execution_count": null,
      "outputs": []
    }
  ]
}