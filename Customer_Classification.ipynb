{
  "nbformat": 4,
  "nbformat_minor": 0,
  "metadata": {
    "colab": {
      "provenance": [],
      "authorship_tag": "ABX9TyNmPTQUuxOcNx/SncLWREIY",
      "include_colab_link": true
    },
    "kernelspec": {
      "name": "python3",
      "display_name": "Python 3"
    },
    "language_info": {
      "name": "python"
    }
  },
  "cells": [
    {
      "cell_type": "markdown",
      "metadata": {
        "id": "view-in-github",
        "colab_type": "text"
      },
      "source": [
        "<a href=\"https://colab.research.google.com/github/pruthwiraj2003/AI-DS/blob/main/Customer_Classification.ipynb\" target=\"_parent\"><img src=\"https://colab.research.google.com/assets/colab-badge.svg\" alt=\"Open In Colab\"/></a>"
      ]
    },
    {
      "cell_type": "code",
      "execution_count": 1,
      "metadata": {
        "colab": {
          "base_uri": "https://localhost:8080/"
        },
        "id": "6NEFZsnvlr15",
        "outputId": "a4fd132a-d7ac-4ed1-f665-6d88a060d1ca"
      },
      "outputs": [
        {
          "output_type": "stream",
          "name": "stdout",
          "text": [
            "Customer data created and saved to 'customers.csv'\n",
            "   Age  Gender  Income  PurchaseFrequency  Churn\n",
            "0   56       1   24.45                  2      1\n",
            "1   69       0   49.17                  2      0\n",
            "2   46       0   55.76                  4      0\n",
            "3   32       1   49.51                  4      0\n",
            "4   60       0   18.99                  1      1\n"
          ]
        }
      ],
      "source": [
        "import numpy as np\n",
        "import pandas as pd\n",
        "\n",
        "np.random.seed(42)\n",
        "\n",
        "n_customers = 500\n",
        "\n",
        "ages = np.random.randint(18, 70, n_customers)\n",
        "genders = np.random.randint(0, 2, n_customers)\n",
        "income = np.random.normal(50, 15, n_customers).round(2)\n",
        "purchase_freq = np.random.poisson(3, n_customers)\n",
        "\n",
        "churn = ((income < 40) & (purchase_freq < 3)).astype(int)\n",
        "\n",
        "df_customers = pd.DataFrame({\n",
        "    'Age': ages,\n",
        "    'Gender': genders,\n",
        "    'Income': income,\n",
        "    'PurchaseFrequency': purchase_freq,\n",
        "    'Churn': churn\n",
        "})\n",
        "\n",
        "df_customers.to_csv(\"customers.csv\", index=False)\n",
        "\n",
        "print(\"Customer data created and saved to 'customers.csv'\")\n",
        "print(df_customers.head())\n"
      ]
    }
  ]
}